{
 "cells": [
  {
   "cell_type": "markdown",
   "metadata": {},
   "source": [
    "# Creating Customer Segments"
   ]
  },
  {
   "cell_type": "markdown",
   "metadata": {},
   "source": [
    "In this project you, will analyze a dataset containing annual spending amounts for internal structure, to understand the variation in the different types of customers that a wholesale distributor interacts with.\n",
    "\n",
    "Instructions:\n",
    "\n",
    "- Run each code block below by pressing **Shift+Enter**, making sure to implement any steps marked with a TODO.\n",
    "- Answer each question in the space provided by editing the blocks labeled \"Answer:\".\n",
    "- When you are done, submit the completed notebook (.ipynb) with all code blocks executed, as well as a .pdf version (File > Download as)."
   ]
  },
  {
   "cell_type": "code",
   "execution_count": 11,
   "metadata": {
    "collapsed": false
   },
   "outputs": [
    {
     "name": "stdout",
     "output_type": "stream",
     "text": [
      "Dataset has 440 rows, 6 columns\n",
      "   Fresh  Milk  Grocery  Frozen  Detergents_Paper  Delicatessen\n",
      "0  12669  9656     7561     214              2674          1338\n",
      "1   7057  9810     9568    1762              3293          1776\n",
      "2   6353  8808     7684    2405              3516          7844\n",
      "3  13265  1196     4221    6404               507          1788\n",
      "4  22615  5410     7198    3915              1777          5185\n",
      "\n",
      "mean\n",
      "Fresh               12000.297727\n",
      "Milk                 5796.265909\n",
      "Grocery              7951.277273\n",
      "Frozen               3071.931818\n",
      "Detergents_Paper     2881.493182\n",
      "Delicatessen         1524.870455\n",
      "dtype: float64\n",
      "\n",
      "std\n",
      "Fresh               12647.328865\n",
      "Milk                 7380.377175\n",
      "Grocery              9503.162829\n",
      "Frozen               4854.673333\n",
      "Detergents_Paper     4767.854448\n",
      "Delicatessen         2820.105937\n",
      "dtype: float64\n"
     ]
    }
   ],
   "source": [
    "# Import libraries: NumPy, pandas, matplotlib\n",
    "import numpy as np\n",
    "import pandas as pd\n",
    "import matplotlib.pyplot as plt\n",
    "\n",
    "# Tell iPython to include plots inline in the notebook\n",
    "%matplotlib inline\n",
    "\n",
    "# Read dataset\n",
    "data = pd.read_csv(\"wholesale-customers.csv\")\n",
    "print \"Dataset has {} rows, {} columns\".format(*data.shape)\n",
    "print data.head()  # print the first 5 rows\n",
    "\n",
    "# get some sense of the data\n",
    "print\n",
    "print \"mean\"\n",
    "print data.mean()\n",
    "print \n",
    "print \"std\"\n",
    "print data.std()\n"
   ]
  },
  {
   "cell_type": "markdown",
   "metadata": {},
   "source": [
    "##Feature Transformation"
   ]
  },
  {
   "cell_type": "markdown",
   "metadata": {},
   "source": [
    "**1)** In this section you will be using PCA and ICA to start to understand the structure of the data. Before doing any computations, what do you think will show up in your computations? List one or two ideas for what might show up as the first PCA dimensions, or what type of vectors will show up as ICA dimensions."
   ]
  },
  {
   "cell_type": "markdown",
   "metadata": {},
   "source": [
    "Answer: a vector of weights might show up.  Each element of the vector corresponding to one of 'Fresh', 'Milk', 'Grocery', 'Frozen', 'Detergents_Paper', and 'Delicatessen'. Something like [.9 .01 .01 .7 .01] would mean that 'Fresh' (0.9) and 'Frozen' (0.7) are along the same dimension and are two 'flavors' of the same characteristic."
   ]
  },
  {
   "cell_type": "markdown",
   "metadata": {},
   "source": [
    "###PCA"
   ]
  },
  {
   "cell_type": "code",
   "execution_count": 12,
   "metadata": {
    "collapsed": false
   },
   "outputs": [
    {
     "name": "stdout",
     "output_type": "stream",
     "text": [
      "-- verify inverse transform of scaling with first vector\n",
      "(440, 6)\n",
      "[[ 12668.99999988   9655.99999839   7561.00000035    213.99999891\n",
      "    2674.00000002   1338.00000005]]\n",
      "--\n",
      "-- verify scaled data looks scaled\n",
      "min, expect <0 [-0.94968309 -0.77879505 -0.83733437 -0.62834303 -0.60441648 -0.54026439]\n",
      "max, expect >0 [  7.92773757   9.18364979   8.93652831  11.91900152   7.96767199\n",
      "  16.47844745]\n",
      "[  8.87742066   9.96244484   9.77386267  12.54734455   8.57208847\n",
      "  17.01871184]\n",
      "mean, expect near 0 [ -3.43159844e-17   0.00000000e+00  -4.03717464e-17   3.63345717e-17\n",
      "   2.42230478e-17  -8.07434927e-18]\n",
      "std, expect near 1 [ 1.  1.  1.  1.  1.  1.]\n",
      "--\n",
      "number of columns (will use for number of components) 6\n",
      "components_\n",
      "[[-0.97653685 -0.12118407 -0.06154039 -0.15236462  0.00705417 -0.06810471]\n",
      " [-0.11061386  0.51580216  0.76460638 -0.01872345  0.36535076  0.05707921]\n",
      " [-0.17855726  0.50988675 -0.27578088  0.71420037 -0.20440987  0.28321747]\n",
      " [-0.04187648 -0.64564047  0.37546049  0.64629232  0.14938013 -0.02039579]\n",
      " [ 0.015986    0.20323566 -0.1602915   0.22018612  0.20793016 -0.91707659]\n",
      " [-0.01576316  0.03349187  0.41093894 -0.01328898 -0.87128428 -0.26541687]]\n",
      "explained_variance_ratio_\n",
      "[ 0.45961362  0.40517227  0.07003008  0.04402344  0.01502212  0.00613848]\n",
      "6\n",
      "components_\n",
      "[[-0.04288396 -0.54511832 -0.57925635 -0.05118859 -0.5486402  -0.24868198]\n",
      " [-0.52793212 -0.08316765  0.14608818 -0.61127764  0.25523316 -0.50420705]\n",
      " [-0.81225657  0.06038798 -0.10838401  0.17838615 -0.13619225  0.52390412]\n",
      " [-0.23668559 -0.08718991  0.10598745  0.76868266  0.17174406 -0.55206472]\n",
      " [ 0.04868278 -0.82657929  0.31499943  0.02793224  0.33964012  0.31470051]\n",
      " [ 0.03602539  0.03804019 -0.72174458  0.01563715  0.68589373  0.07513412]]\n",
      "explained_variance_ratio_\n",
      "[ 0.44082893  0.283764    0.12334413  0.09395504  0.04761272  0.01049519]\n"
     ]
    }
   ],
   "source": [
    "# TODO: Apply PCA with the same number of dimensions as variables in the dataset\n",
    "from sklearn.preprocessing import StandardScaler\n",
    "scaler = StandardScaler()\n",
    "scaled_data = scaler.fit_transform(data)\n",
    "\n",
    "print '-- verify inverse transform of scaling with first vector'\n",
    "print scaler.fit_transform(data).shape\n",
    "print scaler.inverse_transform([[ 5.29331898e-02, 5.23567773e-01, -4.11148934e-02, -5.89367156e-01, -4.35687319e-02, -6.63390575e-02]])\n",
    "print '--'\n",
    "print '-- verify scaled data looks scaled'\n",
    "print 'min, expect <0', scaled_data.min(axis=0)\n",
    "print 'max, expect >0', scaled_data.max(axis=0)\n",
    "print (scaled_data.max(axis=0)-scaled_data.min(axis=0))\n",
    "print 'mean, expect near 0', scaled_data.mean(axis=0)\n",
    "print 'std, expect near 1', scaled_data.std(axis=0)\n",
    "print '--'\n",
    "\n",
    "\n",
    "from sklearn.decomposition import PCA\n",
    "n_columns = data.shape[1]\n",
    "print 'number of columns (will use for number of components)', n_columns\n",
    "pca = PCA(n_components=n_columns)\n",
    "pca.fit(data)\n",
    "\n",
    "# Print the components and the amount of variance in the data contained in each dimension\n",
    "print \"components_\"\n",
    "print pca.components_\n",
    "print \"explained_variance_ratio_\"\n",
    "print pca.explained_variance_ratio_\n",
    "\n",
    "\n",
    "n_columns = scaled_data.shape[1]\n",
    "print n_columns\n",
    "scaled_pca = PCA(n_components=n_columns)\n",
    "scaled_pca.fit(scaled_data)\n",
    "\n",
    "# Print the components and the amount of variance in the data contained in each dimension\n",
    "print \"components_\"\n",
    "print scaled_pca.components_\n",
    "print \"explained_variance_ratio_\"\n",
    "print scaled_pca.explained_variance_ratio_"
   ]
  },
  {
   "cell_type": "markdown",
   "metadata": {},
   "source": [
    "**2)** How quickly does the variance drop off by dimension? If you were to use PCA on this dataset, how many dimensions would you choose for your analysis? Why?"
   ]
  },
  {
   "cell_type": "markdown",
   "metadata": {
    "collapsed": true
   },
   "source": [
    "Answer: \n",
    "Normally one would like to scale the data so one can compare dimensions of different units.  This data set is all in dollar amounts, so that purpose of scaling is removed.  However without scaling, it is possible that the relatively costliness of one dimension will hide some important distiction between groups of buyers.  So I've chosen to look at both scaled and raw data.\n",
    "\n",
    "For the raw data, the first two component factors, 0.4596 and 0.4052 are similar, but then the third factor drops by a factor of between 5 and 6 to 0.0700. The fourth factor is down by and order of magnitude to 0.044.  I would include the first two dimensions, perhaps the third but no more.\n",
    "\n",
    "For the scaled data, an order of magnitude data drop isn't seen until the 5th component,  I would include the first 4 with the scaled data."
   ]
  },
  {
   "cell_type": "markdown",
   "metadata": {},
   "source": [
    "**3)** What do the dimensions seem to represent? How can you use this information?"
   ]
  },
  {
   "cell_type": "markdown",
   "metadata": {
    "collapsed": true
   },
   "source": [
    "Answer:\n",
    "Raw --\n",
    "The first principle component ( [-0.98 -0.12 -0.06 -0.15  0.01 -0.07] )is made up most strongly of the 'Fresh' dimension.  This isn't too surprising, 'Fresh' has the greatest min to max range, and the largest standard deviation, so one would expect without scaling, this feature to dominate the variance.\n",
    "The second principle component ( [-0.11  0.52  0.76 -0.02  0.37  0.06] ) is made up most stongly of 'Grocery','Milk', and 'Detergent_Paper' in that order\n",
    "\n",
    "Scaled --\n",
    "The first principle component ( [-0.04 -0.55 -0.58 -0.05 -0.55 -0.25] ) is 'Milk','Grocery','Detergents_Paper', which was the makeup of the second component in the Raw case.\n",
    "The second principle component ( [-0.53 -0.08  0.15 -0.61  0.26 -0.50] ) is 'Frozen','Fresh','Delicatessen'"
   ]
  },
  {
   "cell_type": "markdown",
   "metadata": {},
   "source": [
    "###ICA"
   ]
  },
  {
   "cell_type": "code",
   "execution_count": 13,
   "metadata": {
    "collapsed": false
   },
   "outputs": [
    {
     "name": "stdout",
     "output_type": "stream",
     "text": [
      "[[-0.01884683 -0.00746648  0.00027704 -0.02183503  0.00435515 -0.01973518]\n",
      " [ 0.00429207 -0.01445054 -0.01779682  0.00492655 -0.01807304 -0.0017374 ]]\n"
     ]
    }
   ],
   "source": [
    "# TODO: Fit an ICA model to the data\n",
    "# Note: Adjust the data to have center at the origin first!\n",
    "from sklearn.decomposition import FastICA\n",
    "\n",
    "ica = FastICA(n_components=2)\n",
    "S_data = ica.fit_transform(scaled_data)\n",
    "\n",
    "\n",
    "# Print the independent components\n",
    "print ica.components_"
   ]
  },
  {
   "cell_type": "markdown",
   "metadata": {},
   "source": [
    "**4)** For each vector in the ICA decomposition, write a sentence or two explaining what sort of object or property it corresponds to. What could these components be used for?"
   ]
  },
  {
   "cell_type": "markdown",
   "metadata": {
    "collapsed": true
   },
   "source": [
    "Answer: \n",
    "Even though ICA is a different approact, one of minimizine mutal information, and does not require generating orthogonal basis, the results are similar to the PCA analysis.  \n",
    "\n",
    "Again of dimension of \n",
    "[ 0.00  -0.01  -0.02  0.00 -0.02  -0.00] 'Detergents_Paper','Grocery', 'Milk'\n",
    "\n",
    "And one of \n",
    "[ 0.02  0.01 -0.00  0.02  -0.00  0.02] 'Frozen', 'Deli', 'Fresh'"
   ]
  },
  {
   "cell_type": "markdown",
   "metadata": {},
   "source": [
    "##Clustering\n",
    "\n",
    "In this section you will choose either K Means clustering or Gaussian Mixed Models clustering, which implements expectation-maximization. Then you will sample elements from the clusters to understand their significance."
   ]
  },
  {
   "cell_type": "markdown",
   "metadata": {},
   "source": [
    "###Choose a Cluster Type\n",
    "\n",
    "**5)** What are the advantages of using K Means clustering or Gaussian Mixture Models?"
   ]
  },
  {
   "cell_type": "markdown",
   "metadata": {},
   "source": [
    "Answer: \n",
    "\n",
    "K Means clustering --\n",
    "  computationally faster,\n",
    "  tighter clusters\n",
    "  \n",
    "Gaussian Mixture Models -- \n",
    "  soft classification is available\n",
    "  "
   ]
  },
  {
   "cell_type": "markdown",
   "metadata": {},
   "source": [
    "**6)** Below is some starter code to help you visualize some cluster data. The visualization is based on [this demo](http://scikit-learn.org/stable/auto_examples/cluster/plot_kmeans_digits.html) from the sklearn documentation."
   ]
  },
  {
   "cell_type": "code",
   "execution_count": 14,
   "metadata": {
    "collapsed": true
   },
   "outputs": [],
   "source": [
    "# Import clustering modules\n",
    "from sklearn.cluster import KMeans\n",
    "from sklearn.mixture import GMM"
   ]
  },
  {
   "cell_type": "code",
   "execution_count": 15,
   "metadata": {
    "collapsed": false
   },
   "outputs": [
    {
     "name": "stdout",
     "output_type": "stream",
     "text": [
      "[[-0.19329055  0.30509996]\n",
      " [-0.4344199   0.32841262]\n",
      " [-0.81114323 -0.8150957 ]\n",
      " [ 0.77864783 -0.65275373]]\n"
     ]
    }
   ],
   "source": [
    "# TODO: First we reduce the data to two dimensions using PCA to capture variation\n",
    "\n",
    "# a subroutine to work back from the mapping to PCAs\n",
    "# will only result in orginal values if n_components == n_features\n",
    "def revert(E,scaler,pca):\n",
    "    Ep = np.dot(E,pca.components_)+ pca.mean_\n",
    "    return scaler.inverse_transform(Ep)\n",
    "\n",
    "p = PCA(n_components=2)\n",
    "\n",
    "\n",
    "reduced_data = p.fit_transform(scaled_data)\n",
    "print reduced_data[:4]\n"
   ]
  },
  {
   "cell_type": "code",
   "execution_count": 16,
   "metadata": {
    "collapsed": false
   },
   "outputs": [
    {
     "name": "stdout",
     "output_type": "stream",
     "text": [
      "KMeans(copy_x=True, init='k-means++', max_iter=300, n_clusters=4, n_init=10,\n",
      "    n_jobs=1, precompute_distances='auto', random_state=0, tol=0.0001,\n",
      "    verbose=0)\n",
      "[0 3 3 0]\n"
     ]
    }
   ],
   "source": [
    "# TODO: Implement your clustering algorithm here, and fit it to the reduced data for visualization\n",
    "# The visualizer below assumes your clustering object is named 'clusters'\n",
    "\n",
    "clusters = KMeans(n_clusters=4,random_state=0).fit(reduced_data)\n",
    "#For GMM clusters = GMM(n_components=5,covariance_type='full').fit(reduced_data)\n",
    "print clusters\n",
    "print clusters.predict(reduced_data)[:4]\n",
    "\n"
   ]
  },
  {
   "cell_type": "code",
   "execution_count": 17,
   "metadata": {
    "collapsed": false
   },
   "outputs": [],
   "source": [
    "# Plot the decision boundary by building a mesh grid to populate a graph.\n",
    "x_min, x_max = reduced_data[:, 0].min() - 1, reduced_data[:, 0].max() + 1\n",
    "y_min, y_max = reduced_data[:, 1].min() - 1, reduced_data[:, 1].max() + 1\n",
    "hx = (x_max-x_min)/1000.\n",
    "hy = (y_max-y_min)/1000.\n",
    "xx, yy = np.meshgrid(np.arange(x_min, x_max, hx), np.arange(y_min, y_max, hy))\n",
    "\n",
    "# Obtain labels for each point in mesh. Use last trained model.\n",
    "Z = clusters.predict(np.c_[xx.ravel(), yy.ravel()])"
   ]
  },
  {
   "cell_type": "code",
   "execution_count": 22,
   "metadata": {
    "collapsed": false
   },
   "outputs": [
    {
     "name": "stdout",
     "output_type": "stream",
     "text": [
      "centroids\n",
      "[[  0.68468443  -0.15620376]\n",
      " [ -7.05027932   0.63634999]\n",
      " [ -4.51308525 -10.04070335]\n",
      " [ -1.30128824   0.73156912]]\n",
      "\n",
      "revert of centroids\n",
      "[[ 12671.14525369   3140.56024245   3969.92306418   3364.99444933\n",
      "     902.63651133   1267.09698252]\n",
      " [ 11575.75815148  33738.3964026   47599.73788995   2935.70615055\n",
      "   22076.40574756   5559.86842825]\n",
      " [ 81410.12439235  30088.63313126  18842.85798626  33954.61886688\n",
      "    2468.7786494   18947.15792161]\n",
      " [  7826.18890799  10577.09565724  16120.904093     1226.43742289\n",
      "    7170.82509551   1397.3906357 ]]\n",
      "\n",
      "revert of unit vecotrs\n",
      "[[ 12542.04853846   9814.8703078   13449.78573957   3320.15314427\n",
      "    5494.35554418   2225.38258907]\n",
      " [ 18669.6371861    6409.37664264   6564.55602068   6036.11091952\n",
      "    1665.96228909   2945.17100374]]\n"
     ]
    }
   ],
   "source": [
    "# TODO: Find the centroids for KMeans or the cluster means for GMM \n",
    "\n",
    "centroids = clusters.cluster_centers_\n",
    "# For GMM centroids = clusters.means_\n",
    "print 'centroids'\n",
    "print centroids\n",
    "\n",
    "print\n",
    "print 'revert of centroids'\n",
    "print revert(centroids, scaler, p)\n",
    "\n",
    "print\n",
    "print 'revert of unit vecotrs'\n",
    "print revert([[-1,0],[0,-1]], scaler, p)"
   ]
  },
  {
   "cell_type": "code",
   "execution_count": 23,
   "metadata": {
    "collapsed": false
   },
   "outputs": [
    {
     "data": {
      "image/png": "[encoded data removed]",
      "text/plain": [
       "<matplotlib.figure.Figure at 0x10be9ca10>"
      ]
     },
     "metadata": {},
     "output_type": "display_data"
    }
   ],
   "source": [
    "# Put the result into a color plot\n",
    "Z = Z.reshape(xx.shape)\n",
    "plt.figure(1)\n",
    "plt.clf()\n",
    "plt.imshow(Z, interpolation='nearest',\n",
    "           extent=(xx.min(), xx.max(), yy.min(), yy.max()),\n",
    "           cmap=plt.cm.Paired,\n",
    "           aspect='auto', origin='lower')\n",
    "\n",
    "plt.plot(reduced_data[:, 0], reduced_data[:, 1], 'k.', markersize=2)\n",
    "plt.scatter(centroids[:, 0], centroids[:, 1],\n",
    "            marker='x', s=169, linewidths=3,\n",
    "            color='w', zorder=10)\n",
    "plt.title('Clustering on the wholesale grocery dataset (PCA-reduced data)\\n'\n",
    "          'Centroids are marked with white cross')\n",
    "plt.xlim(x_min, x_max)\n",
    "plt.ylim(y_min, y_max)\n",
    "plt.xticks(())\n",
    "plt.yticks(())\n",
    "plt.show()"
   ]
  },
  {
   "cell_type": "markdown",
   "metadata": {},
   "source": [
    "**7)** What are the central objects in each cluster? Describe them as customers."
   ]
  },
  {
   "cell_type": "markdown",
   "metadata": {
    "collapsed": true
   },
   "source": [
    "Answer: \n",
    "```\n",
    "\n",
    " [  0.68468443  -0.15620376]  blue\n",
    " [ -7.05027932   0.63634999]  light brown\n",
    " [ -4.51308525 -10.04070335]  orange\n",
    " [ -1.30128824   0.73156912]  dark brown\n",
    "```\n",
    "```\n",
    "  fresh   milk  grocery frozen paper  deli\n",
    "[ 12671   3141    3970   3365   903   1267] blue\n",
    "[ 11576  33738   47600   2936 22076   5560] light brown\n",
    "[ 81410  30089   18843  33955  2469  18947] orange\n",
    "[  7826  10577   16121   1226  7171   1397] dark brown\n",
    "```\n",
    "\n",
    "blue -- smaller business, mainly fresh foods, probably less infrastruce refrigeration/freezer \n",
    "\n",
    "light brown -- larger chain drug store, more commodity produced packaged goods, relatively light on fresh foods\n",
    "\n",
    "orange -- large diverse chain grocery store, relatively small percentage of detergent&paper\n",
    "\n",
    "dark brown -- similar to light brown but smaller independent owners shop\n",
    "\n"
   ]
  },
  {
   "cell_type": "markdown",
   "metadata": {},
   "source": [
    "###Conclusions\n",
    "\n",
    "** 8)** Which of these techniques did you feel gave you the most insight into the data?"
   ]
  },
  {
   "cell_type": "markdown",
   "metadata": {
    "collapsed": true
   },
   "source": [
    "Answer:  The PCA and ICA hinted at the same characteristic. So I feel in this case they reinforced rather than competed with one and other.  Between the K-mean and the GMM, I felt the resulting partitions felt less blob like.  The GMM produced some elongated structures the bisected other partitions in two.  If I had recognizable names to go along with some stores I might have been able to use domain knowelege to make more sense of the GMM blobs, but without that extra knowlege, the shapes were harder to conceptualize.  The data didn't scream out with some obvious boundaries so was content to have an arbitrary cut make to seperate groups."
   ]
  },
  {
   "cell_type": "markdown",
   "metadata": {
    "collapsed": true
   },
   "source": [
    "**9)** How would you use that technique to help the company design new experiments?"
   ]
  },
  {
   "cell_type": "markdown",
   "metadata": {},
   "source": [
    "Answer:  I would suggest that there is some domain knowledge buried, waiting to be uncovered, in the two prinicple components that were found.  One component (\"Fresh\",\"Frozen\", \"Deli\") suggest product where morning delivery is critical, more so at least than the second component of ('Milk','Grocery','Detergents_Paper') which seems like the local distribution is just the last step in some long procurment chain.  I feel the 4 group is fine grained enough and perhap even 3 would be doable.  I think the company could design new experiments with representatives from each of these groups to see how one change affects them differently."
   ]
  },
  {
   "cell_type": "markdown",
   "metadata": {},
   "source": [
    "**10)** How would you use that data to help you predict future customer needs?"
   ]
  },
  {
   "cell_type": "markdown",
   "metadata": {},
   "source": [
    "Answer: I would predict the orange group can accomadate in change and might even be large enough to dictate its requirements.  I feel the blue group, with it dependance on the main segement of their business being fresh food will be most sensitive to getting product early in the day so it can be sold same day.  The two brown groups seem to be less dependent on perisable products and are content with evening delivery where stocking shelves late into the night is fine.  I also think a hidden factor is hours of the store.  It might be one of the signals driving the ICA, but I would definately try to collect some further data on some other features that might be as important and not driving the data from the backseat.\n"
   ]
  },
  {
   "cell_type": "code",
   "execution_count": null,
   "metadata": {
    "collapsed": true
   },
   "outputs": [],
   "source": []
  }
 ],
 "metadata": {
  "kernelspec": {
   "display_name": "Python 2",
   "language": "python",
   "name": "python2"
  },
  "language_info": {
   "codemirror_mode": {
    "name": "ipython",
    "version": 2
   },
   "file_extension": ".py",
   "mimetype": "text/x-python",
   "name": "python",
   "nbconvert_exporter": "python",
   "pygments_lexer": "ipython2",
   "version": "2.7.11"
  }
 },
 "nbformat": 4,
 "nbformat_minor": 0
}
