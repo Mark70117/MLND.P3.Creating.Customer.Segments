{
 "cells": [
  {
   "cell_type": "markdown",
   "metadata": {},
   "source": [
    "# Creating Customer Segments"
   ]
  },
  {
   "cell_type": "markdown",
   "metadata": {},
   "source": [
    "In this project you, will analyze a dataset containing annual spending amounts for internal structure, to understand the variation in the different types of customers that a wholesale distributor interacts with.\n",
    "\n",
    "Instructions:\n",
    "\n",
    "- Run each code block below by pressing **Shift+Enter**, making sure to implement any steps marked with a TODO.\n",
    "- Answer each question in the space provided by editing the blocks labeled \"Answer:\".\n",
    "- When you are done, submit the completed notebook (.ipynb) with all code blocks executed, as well as a .pdf version (File > Download as)."
   ]
  },
  {
   "cell_type": "code",
   "execution_count": 1,
   "metadata": {
    "collapsed": false
   },
   "outputs": [
    {
     "name": "stdout",
     "output_type": "stream",
     "text": [
      "Dataset has 440 rows, 6 columns\n",
      "   Fresh  Milk  Grocery  Frozen  Detergents_Paper  Delicatessen\n",
      "0  12669  9656     7561     214              2674          1338\n",
      "1   7057  9810     9568    1762              3293          1776\n",
      "2   6353  8808     7684    2405              3516          7844\n",
      "3  13265  1196     4221    6404               507          1788\n",
      "4  22615  5410     7198    3915              1777          5185\n",
      "\n",
      "mean\n",
      "Fresh               12000.297727\n",
      "Milk                 5796.265909\n",
      "Grocery              7951.277273\n",
      "Frozen               3071.931818\n",
      "Detergents_Paper     2881.493182\n",
      "Delicatessen         1524.870455\n",
      "dtype: float64\n",
      "\n",
      "std\n",
      "Fresh               12647.328865\n",
      "Milk                 7380.377175\n",
      "Grocery              9503.162829\n",
      "Frozen               4854.673333\n",
      "Detergents_Paper     4767.854448\n",
      "Delicatessen         2820.105937\n",
      "dtype: float64\n"
     ]
    }
   ],
   "source": [
    "# Import libraries: NumPy, pandas, matplotlib\n",
    "import numpy as np\n",
    "import pandas as pd\n",
    "import matplotlib.pyplot as plt\n",
    "\n",
    "# Tell iPython to include plots inline in the notebook\n",
    "%matplotlib inline\n",
    "\n",
    "# Read dataset\n",
    "data = pd.read_csv(\"wholesale-customers.csv\")\n",
    "print \"Dataset has {} rows, {} columns\".format(*data.shape)\n",
    "print data.head()  # print the first 5 rows\n",
    "\n",
    "# get some sense of the data\n",
    "print\n",
    "print \"mean\"\n",
    "print data.mean()\n",
    "print \n",
    "print \"std\"\n",
    "print data.std()\n"
   ]
  },
  {
   "cell_type": "markdown",
   "metadata": {},
   "source": [
    "##Feature Transformation"
   ]
  },
  {
   "cell_type": "markdown",
   "metadata": {},
   "source": [
    "**1)** In this section you will be using PCA and ICA to start to understand the structure of the data. Before doing any computations, what do you think will show up in your computations? List one or two ideas for what might show up as the first PCA dimensions, or what type of vectors will show up as ICA dimensions."
   ]
  },
  {
   "cell_type": "markdown",
   "metadata": {},
   "source": [
    "Answer: \n",
    "\n",
    "PCAs are basis of a new vector space.  The goal is to order the basis of this space from maximum variation to least variation. The hope being if we reduce the dimensions, buy keep those with the most variation we will keep the most information present. Since they are a basis for a space then with be orthogonal to each other, the dot product of each pair of basis should be 0.  A sample vector likely has a non zero value in each of the goods, since the basis isn't necessarily representative of the buying patterns of any particular type of store.\n",
    "\n",
    "ICAs might be thought as representing different buying pattern of the relative goods at different types of stores. Stores don't necessarily only buy one type of product, but convience stores (7/11, gas station stores) buy a certain relative pattern of the six categories, where as drug stores (Walgreens/CVS) buy a different pattern.  The elements of the components are the ratio that these categories are bought relative to one another.  so a vector of [0.1 0.9 0.9 0.0 0.0 0.0] would represent a store that bought predomiently milk and groceries in the same quantities, and some milk, but less by a factor of 9.  It would not be uncommon so see near zero values if a store type hardly sold any of that class of goods, say frozen food at a fresh food stand.\n"
   ]
  },
  {
   "cell_type": "markdown",
   "metadata": {},
   "source": [
    "###PCA"
   ]
  },
  {
   "cell_type": "code",
   "execution_count": 2,
   "metadata": {
    "collapsed": false
   },
   "outputs": [
    {
     "name": "stdout",
     "output_type": "stream",
     "text": [
      "-- verify inverse transform of scaling with first vector\n",
      "(440, 6)\n",
      "[[ 12668.99999988   9655.99999839   7561.00000035    213.99999891\n",
      "    2674.00000002   1338.00000005]]\n",
      "--\n",
      "-- verify scaled data looks scaled\n",
      "min, expect <0 [-0.94968309 -0.77879505 -0.83733437 -0.62834303 -0.60441648 -0.54026439]\n",
      "max, expect >0 [  7.92773757   9.18364979   8.93652831  11.91900152   7.96767199\n",
      "  16.47844745]\n",
      "[  8.87742066   9.96244484   9.77386267  12.54734455   8.57208847\n",
      "  17.01871184]\n",
      "mean, expect near 0 [ -3.43159844e-17   0.00000000e+00  -4.03717464e-17   3.63345717e-17\n",
      "   2.42230478e-17  -8.07434927e-18]\n",
      "std, expect near 1 [ 1.  1.  1.  1.  1.  1.]\n",
      "--\n",
      "number of columns (will use for number of components) 6\n",
      "components_\n",
      "[[-0.97653685 -0.12118407 -0.06154039 -0.15236462  0.00705417 -0.06810471]\n",
      " [-0.11061386  0.51580216  0.76460638 -0.01872345  0.36535076  0.05707921]\n",
      " [-0.17855726  0.50988675 -0.27578088  0.71420037 -0.20440987  0.28321747]\n",
      " [-0.04187648 -0.64564047  0.37546049  0.64629232  0.14938013 -0.02039579]\n",
      " [ 0.015986    0.20323566 -0.1602915   0.22018612  0.20793016 -0.91707659]\n",
      " [-0.01576316  0.03349187  0.41093894 -0.01328898 -0.87128428 -0.26541687]]\n",
      "explained_variance_ratio_\n",
      "[ 0.45961362  0.40517227  0.07003008  0.04402344  0.01502212  0.00613848]\n",
      "6\n",
      "components_\n",
      "[[-0.04288396 -0.54511832 -0.57925635 -0.05118859 -0.5486402  -0.24868198]\n",
      " [-0.52793212 -0.08316765  0.14608818 -0.61127764  0.25523316 -0.50420705]\n",
      " [-0.81225657  0.06038798 -0.10838401  0.17838615 -0.13619225  0.52390412]\n",
      " [-0.23668559 -0.08718991  0.10598745  0.76868266  0.17174406 -0.55206472]\n",
      " [ 0.04868278 -0.82657929  0.31499943  0.02793224  0.33964012  0.31470051]\n",
      " [ 0.03602539  0.03804019 -0.72174458  0.01563715  0.68589373  0.07513412]]\n",
      "explained_variance_ratio_\n",
      "[ 0.44082893  0.283764    0.12334413  0.09395504  0.04761272  0.01049519]\n"
     ]
    }
   ],
   "source": [
    "# TODO: Apply PCA with the same number of dimensions as variables in the dataset\n",
    "from sklearn.preprocessing import StandardScaler\n",
    "scaler = StandardScaler()\n",
    "scaled_data = scaler.fit_transform(data)\n",
    "\n",
    "print '-- verify inverse transform of scaling with first vector'\n",
    "print scaler.fit_transform(data).shape\n",
    "print scaler.inverse_transform([[ 5.29331898e-02, 5.23567773e-01, -4.11148934e-02, -5.89367156e-01, -4.35687319e-02, -6.63390575e-02]])\n",
    "print '--'\n",
    "print '-- verify scaled data looks scaled'\n",
    "print 'min, expect <0', scaled_data.min(axis=0)\n",
    "print 'max, expect >0', scaled_data.max(axis=0)\n",
    "print (scaled_data.max(axis=0)-scaled_data.min(axis=0))\n",
    "print 'mean, expect near 0', scaled_data.mean(axis=0)\n",
    "print 'std, expect near 1', scaled_data.std(axis=0)\n",
    "print '--'\n",
    "\n",
    "\n",
    "from sklearn.decomposition import PCA\n",
    "n_columns = data.shape[1]\n",
    "print 'number of columns (will use for number of components)', n_columns\n",
    "pca = PCA(n_components=n_columns)\n",
    "pca.fit(data)\n",
    "\n",
    "# Print the components and the amount of variance in the data contained in each dimension\n",
    "print \"components_\"\n",
    "print pca.components_\n",
    "print \"explained_variance_ratio_\"\n",
    "print pca.explained_variance_ratio_\n",
    "\n",
    "\n",
    "n_columns = scaled_data.shape[1]\n",
    "print n_columns\n",
    "scaled_pca = PCA(n_components=n_columns)\n",
    "scaled_pca.fit(scaled_data)\n",
    "\n",
    "# Print the components and the amount of variance in the data contained in each dimension\n",
    "print \"components_\"\n",
    "print scaled_pca.components_\n",
    "print \"explained_variance_ratio_\"\n",
    "print scaled_pca.explained_variance_ratio_"
   ]
  },
  {
   "cell_type": "markdown",
   "metadata": {},
   "source": [
    "**2)** How quickly does the variance drop off by dimension? If you were to use PCA on this dataset, how many dimensions would you choose for your analysis? Why?"
   ]
  },
  {
   "cell_type": "markdown",
   "metadata": {
    "collapsed": true
   },
   "source": [
    "Answer: \n",
    "Normally one would like to scale the data so one can compare dimensions of different units.  This data set is all in dollar amounts, so that purpose of scaling is removed.  However without scaling, it is possible that the relatively costliness of one dimension will hide some important distiction between groups of buyers.  So I've chosen to look at both scaled and raw data.\n",
    "\n",
    "For the raw data, the first two component factors, 0.4596 and 0.4052 are similar, but then the third factor drops by a factor of between 5 and 6 to 0.0700. The fourth factor is down by and order of magnitude to 0.044.  I would include the first two dimensions, perhaps the third but no more.\n",
    "\n",
    "For the scaled data, an order of magnitude data drop isn't seen until the 5th component,  I would include the first 4 with the scaled data."
   ]
  },
  {
   "cell_type": "markdown",
   "metadata": {},
   "source": [
    "**3)** What do the dimensions seem to represent? How can you use this information?"
   ]
  },
  {
   "cell_type": "markdown",
   "metadata": {
    "collapsed": true
   },
   "source": [
    "Answer:\n",
    "Raw --\n",
    "The first principle component ( [-0.98 -0.12 -0.06 -0.15  0.01 -0.07] )is made up most strongly of the 'Fresh' dimension.  This isn't too surprising, 'Fresh' has the greatest min to max range, and the largest standard deviation, so one would expect without scaling, this feature to dominate the variance.\n",
    "The second principle component ( [-0.11  0.52  0.76 -0.02  0.37  0.06] ) is made up most stongly of 'Grocery','Milk', and 'Detergent_Paper' in that order\n",
    "\n",
    "Scaled --\n",
    "The first principle component ( [-0.04 -0.55 -0.58 -0.05 -0.55 -0.25] ) is 'Milk','Grocery','Detergents_Paper', which was the makeup of the second component in the Raw case.\n",
    "The second principle component ( [-0.53 -0.08  0.15 -0.61  0.26 -0.50] ) is 'Frozen','Fresh','Delicatessen'"
   ]
  },
  {
   "cell_type": "markdown",
   "metadata": {},
   "source": [
    "###ICA"
   ]
  },
  {
   "cell_type": "code",
   "execution_count": 3,
   "metadata": {
    "collapsed": false
   },
   "outputs": [
    {
     "name": "stdout",
     "output_type": "stream",
     "text": [
      "[[ 0.01092988  0.00103564 -0.00734779 -0.05404952  0.00264264  0.01676682]\n",
      " [ 0.00488201  0.00161843  0.00570125  0.00253165 -0.00242907 -0.05096479]\n",
      " [-0.00378408  0.01701678  0.11445245 -0.00709403 -0.13432903 -0.01614542]\n",
      " [-0.00265834  0.01389964 -0.06103177 -0.00199201  0.00387811  0.00410008]\n",
      " [-0.05022782  0.00633505  0.00594083  0.00328437 -0.00983198  0.00293676]\n",
      " [ 0.00194143  0.07257807 -0.05515602 -0.00176383  0.01579923 -0.01706237]]\n",
      "[[  1.   0.  -1.  -5.   0.   2.]\n",
      " [  0.   0.   1.   0.  -0.  -5.]\n",
      " [ -0.   2.  11.  -1. -13.  -2.]\n",
      " [ -0.   1.  -6.  -0.   0.   0.]\n",
      " [ -5.   1.   1.   0.  -1.   0.]\n",
      " [  0.   7.  -6.  -0.   2.  -2.]]\n"
     ]
    }
   ],
   "source": [
    "# TODO: Fit an ICA model to the data\n",
    "# Note: Adjust the data to have center at the origin first!\n",
    "from sklearn.decomposition import FastICA\n",
    "\n",
    "ica = FastICA(n_components=6)\n",
    "S_data = ica.fit_transform(scaled_data)\n",
    "\n",
    "\n",
    "# Print the independent components\n",
    "print ica.components_ \n",
    "\n",
    "# Scale and print as integer\n",
    "print np.ndarray.round(ica.components_ *100)\n"
   ]
  },
  {
   "cell_type": "markdown",
   "metadata": {},
   "source": [
    "**4)** For each vector in the ICA decomposition, write a sentence or two explaining what sort of object or property it corresponds to. What could these components be used for?"
   ]
  },
  {
   "cell_type": "markdown",
   "metadata": {
    "collapsed": true
   },
   "source": [
    "Answer:\n",
    "\n",
    "Vectors have be rescaled to more a more human scale for ease of understanding and presentation.\n",
    "[  1.   0.  -1.  -5.   0.   2.]  represents [ 0.01092988  0.00103564 -0.00734779 -0.05404952  0.00264264  0.01676682]\n",
    "etc.\n",
    "\n",
    "Each vector might represent a type of store.  Stores of the same general type (example types might be fresh food stand, Drug Store, Grocery Store, Convience Store, Mega Store) would have similar buying patterns of categories relative to one another.  Each of the individual components could represent a store type, or perhaps a department within a larger store.\n",
    "\n",
    "\n",
    " ([  1.   0.  -1.  -5.   0.   2.] FROZEN Deli Grocery fresh)\n",
    " This is a convience store mainly selling frozen item and to a lesser extent deli products\n",
    " \n",
    " ([  0.   0.   1.   0.  -0.  -5.] DELI grocery)\n",
    " This is a deli selling mainly deli products and a small array of condiments and snack\n",
    "\n",
    " ([ -0.   2.  11.  -1. -13.  -2.] D&P GROCERY milk deli frozen)\n",
    " This is a Walgreens/CVS drug store selling household product (detergent and paper), packaged commidity goods, a\n",
    " little bit of everything, but no fresh produce.\n",
    " \n",
    " ([ -5.   1.   1.   0.  -1.   0.] FRESH milk grocery d&p)\n",
    " This is a fresh produce shop selling a few sundry milk groceries and paper product\n",
    " \n",
    " ([ -0.   1.  -6.  -0.   0.   0.] GROCERY milk)\n",
    " This is a smaller corner grocery store selling mainly packaged groceries and a bit of milk.\n",
    "\n",
    " ([  0.   7.  -6.  -0.   2.  -2.] MILK GROCERY d&p deli)\n",
    " This is a larger grocery store, selling mainly milk and grocer, but also some household product and deli food.\n",
    " "
   ]
  },
  {
   "cell_type": "markdown",
   "metadata": {},
   "source": [
    "##Clustering\n",
    "\n",
    "In this section you will choose either K Means clustering or Gaussian Mixed Models clustering, which implements expectation-maximization. Then you will sample elements from the clusters to understand their significance."
   ]
  },
  {
   "cell_type": "markdown",
   "metadata": {},
   "source": [
    "###Choose a Cluster Type\n",
    "\n",
    "**5)** What are the advantages of using K Means clustering or Gaussian Mixture Models?"
   ]
  },
  {
   "cell_type": "markdown",
   "metadata": {},
   "source": [
    "Answer: \n",
    "\n",
    "K Means clustering --\n",
    "  computationally faster,\n",
    "  tighter clusters\n",
    "  \n",
    "Gaussian Mixture Models -- \n",
    "  soft classification is available\n",
    "  \n",
    "For our particular problem, the computational expense of either method is negligable.  The algorighms run in a few seconds at most of a moderate laptop computer.  The soft classification of the Gausian Mixture model is also not a compelling strength for this particular model since I am just as happy with a clear and decisive assignment of category.  The ability of GMM to indicate a sort of 25% grocery store and 75% drug store, would just needlessly complicate later analysis.\n",
    "\n",
    "In this problem, I find the globular clusters of K-means more intuitionally appealing.  For something of a more organic origin, I might find the benefit fo Gaussian distributions worth dealing with the blob like shapes that can arrise.\n",
    "  "
   ]
  },
  {
   "cell_type": "markdown",
   "metadata": {},
   "source": [
    "**6)** Below is some starter code to help you visualize some cluster data. The visualization is based on [this demo](http://scikit-learn.org/stable/auto_examples/cluster/plot_kmeans_digits.html) from the sklearn documentation."
   ]
  },
  {
   "cell_type": "code",
   "execution_count": 4,
   "metadata": {
    "collapsed": true
   },
   "outputs": [],
   "source": [
    "# Import clustering modules\n",
    "from sklearn.cluster import KMeans\n",
    "from sklearn.mixture import GMM"
   ]
  },
  {
   "cell_type": "code",
   "execution_count": 21,
   "metadata": {
    "collapsed": false
   },
   "outputs": [
    {
     "name": "stdout",
     "output_type": "stream",
     "text": [
      "[[-0.19329055  0.30509996]\n",
      " [-0.4344199   0.32841262]\n",
      " [-0.81114323 -0.8150957 ]\n",
      " [ 0.77864783 -0.65275373]]\n",
      "[[ 10070.1978125    6385.96408708   9437.17558252   2215.53971847\n",
      "    3757.39320671   1226.93918221]]\n",
      "   Fresh  Milk  Grocery  Frozen  Detergents_Paper  Delicatessen\n",
      "0  12669  9656     7561     214              2674          1338\n"
     ]
    }
   ],
   "source": [
    "# TODO: First we reduce the data to two dimensions using PCA to capture variation\n",
    "\n",
    "# a subroutine to work back from the mapping to PCAs\n",
    "# will only result in orginal values if n_components == n_features\n",
    "def revert(E,scaler,pca):\n",
    "    Ep = np.dot(E,pca.components_)+ pca.mean_\n",
    "    return scaler.inverse_transform(Ep)\n",
    "\n",
    "p = PCA(n_components=2)\n",
    "\n",
    "\n",
    "reduced_data = p.fit_transform(scaled_data)\n",
    "print reduced_data[:4]\n",
    "\n",
    "print revert(reduced_data[:1], scaler, p)\n",
    "print data.head(1)"
   ]
  },
  {
   "cell_type": "code",
   "execution_count": 6,
   "metadata": {
    "collapsed": false
   },
   "outputs": [
    {
     "name": "stdout",
     "output_type": "stream",
     "text": [
      "KMeans(copy_x=True, init='k-means++', max_iter=300, n_clusters=2, n_init=10,\n",
      "    n_jobs=1, precompute_distances='auto', random_state=0, tol=0.0001,\n",
      "    verbose=0)\n",
      "[0 0 0 0]\n"
     ]
    }
   ],
   "source": [
    "# TODO: Implement your clustering algorithm here, and fit it to the reduced data for visualization\n",
    "# The visualizer below assumes your clustering object is named 'clusters'\n",
    "\n",
    "K2clusters = KMeans(n_clusters=2,random_state=0).fit(reduced_data)\n",
    "#For GMM clusters = GMM(n_components=5,covariance_type='full').fit(reduced_data)\n",
    "print K2clusters\n",
    "print K2clusters.predict(reduced_data)[:4]\n",
    "\n"
   ]
  },
  {
   "cell_type": "code",
   "execution_count": 7,
   "metadata": {
    "collapsed": false
   },
   "outputs": [],
   "source": [
    "# Plot the decision boundary by building a mesh grid to populate a graph.\n",
    "def xyzzy(reduced_data, clusters):\n",
    "    x_min, x_max = reduced_data[:, 0].min() - 1, reduced_data[:, 0].max() + 1\n",
    "    y_min, y_max = reduced_data[:, 1].min() - 1, reduced_data[:, 1].max() + 1\n",
    "    hx = (x_max-x_min)/1000.\n",
    "    hy = (y_max-y_min)/1000.\n",
    "    xx, yy = np.meshgrid(np.arange(x_min, x_max, hx), np.arange(y_min, y_max, hy))\n",
    "\n",
    "    # Obtain labels for each point in mesh. Use last trained model.\n",
    "    Z = clusters.predict(np.c_[xx.ravel(), yy.ravel()])\n",
    "    return Z, xx, yy, x_min, x_max, y_min, y_max\n",
    "\n",
    "(Z,xx,yy,x_min,x_max,y_min,y_max) = xyzzy(reduced_data, K2clusters)"
   ]
  },
  {
   "cell_type": "code",
   "execution_count": 9,
   "metadata": {
    "collapsed": false
   },
   "outputs": [
    {
     "name": "stdout",
     "output_type": "stream",
     "text": [
      "centroids\n",
      "[[ 0.41858927 -0.04642563]\n",
      " [-3.67428358  0.40751388]]\n",
      "\n",
      "revert of centroids\n",
      "[[ 12083.15494916   4142.58528451   5585.28122267   3105.64292223\n",
      "    1731.34524587   1297.58194253]\n",
      " [ 11272.99544623  20311.90694704  28719.46482325   2776.02323819\n",
      "   12977.23617518   3519.95850445]]\n",
      "\n",
      "revert of unit vecotrs\n",
      "[[ 12542.04853846   9814.8703078   13449.78573957   3320.15314427\n",
      "    5494.35554418   2225.38258907]\n",
      " [ 18669.6371861    6409.37664264   6564.55602068   6036.11091952\n",
      "    1665.96228909   2945.17100374]]\n"
     ]
    }
   ],
   "source": [
    "# TODO: Find the centroids for KMeans or the cluster means for GMM \n",
    "\n",
    "def printCentroidInfo(centroids):\n",
    "    print 'centroids'\n",
    "    print centroids\n",
    "\n",
    "    print\n",
    "    print 'revert of centroids'\n",
    "    print revert(centroids, scaler, p)\n",
    "\n",
    "    print\n",
    "    print 'revert of unit vecotrs'\n",
    "    print revert([[-1,0],[0,-1]], scaler, p)\n",
    "    \n",
    "centroids = K2clusters.cluster_centers_\n",
    "# For GMM centroids = clusters.means_\n",
    "printCentroidInfo(centroids)\n"
   ]
  },
  {
   "cell_type": "code",
   "execution_count": 10,
   "metadata": {
    "collapsed": false
   },
   "outputs": [
    {
     "data": {
      "image/png": "[encoded data removed]",
      "text/plain": [
       "<matplotlib.figure.Figure at 0x1113b1810>"
      ]
     },
     "metadata": {},
     "output_type": "display_data"
    }
   ],
   "source": [
    "# Put the result into a color plot\n",
    "def plotClusters(Z,xx,yy,centroids,x_min,x_max,y_min,y_max):\n",
    "    Z = Z.reshape(xx.shape)\n",
    "    plt.figure(1)\n",
    "    plt.clf()\n",
    "    plt.imshow(Z, interpolation='nearest',\n",
    "               extent=(xx.min(), xx.max(), yy.min(), yy.max()),\n",
    "               cmap=plt.cm.Paired,\n",
    "               aspect='auto', origin='lower')\n",
    "\n",
    "    plt.plot(reduced_data[:, 0], reduced_data[:, 1], 'k.', markersize=2)\n",
    "    plt.scatter(centroids[:, 0], centroids[:, 1],\n",
    "                marker='x', s=169, linewidths=3,\n",
    "                color='w', zorder=10)\n",
    "    plt.title('Clustering on the wholesale grocery dataset (PCA-reduced data)\\n'\n",
    "          'Centroids are marked with white cross')\n",
    "    plt.xlim(x_min, x_max)\n",
    "    plt.ylim(y_min, y_max)\n",
    "    plt.xticks(())\n",
    "    plt.yticks(())\n",
    "    plt.show()\n",
    "\n",
    "    \n",
    "plotClusters(Z, xx, yy, centroids, x_min, x_max, y_min, y_max)"
   ]
  },
  {
   "cell_type": "code",
   "execution_count": 11,
   "metadata": {
    "collapsed": false
   },
   "outputs": [
    {
     "name": "stdout",
     "output_type": "stream",
     "text": [
      "KMeans(copy_x=True, init='k-means++', max_iter=300, n_clusters=3, n_init=10,\n",
      "    n_jobs=1, precompute_distances='auto', random_state=0, tol=0.0001,\n",
      "    verbose=0)\n",
      "[1 1 1 1]\n",
      "isNot\n",
      "centroids\n",
      "[[ -3.52778282   0.92939702]\n",
      " [  0.42941908  -0.02740804]\n",
      " [ -4.51308525 -10.04070335]]\n",
      "\n",
      "revert of centroids\n",
      "[[  7713.01273489  19403.20617054  28637.63555828   1192.70353395\n",
      "   13228.81491345   2676.10203312]\n",
      " [ 11950.45309539   4087.4046542    5552.10549994   3046.58317533\n",
      "    1726.1649055    1262.98482641]\n",
      " [ 81410.12439235  30088.63313126  18842.85798626  33954.61886688\n",
      "    2468.7786494   18947.15792161]]\n",
      "\n",
      "revert of unit vecotrs\n",
      "[[ 12542.04853846   9814.8703078   13449.78573957   3320.15314427\n",
      "    5494.35554418   2225.38258907]\n",
      " [ 18669.6371861    6409.37664264   6564.55602068   6036.11091952\n",
      "    1665.96228909   2945.17100374]]\n"
     ]
    },
    {
     "data": {
      "image/png": "[encoded data removed]",
      "text/plain": [
       "<matplotlib.figure.Figure at 0x1116a9e50>"
      ]
     },
     "metadata": {},
     "output_type": "display_data"
    }
   ],
   "source": [
    "# TODO: Implement your clustering algorithm here, and fit it to the reduced data for visualization\n",
    "# The visualizer below assumes your clustering object is named 'clusters'\n",
    "def allSteps(isGMM, reduced_data, clusters):\n",
    "    (Z,xx,yy,x_min,x_max,y_min,y_max) = xyzzy(reduced_data, clusters)\n",
    "    centroids = 0\n",
    "    if (isGMM):\n",
    "        centroids = clusters.means_\n",
    "        print \"is\"\n",
    "    else:\n",
    "        centroids = clusters.cluster_centers_\n",
    "        print \"isNot\"\n",
    "    printCentroidInfo(centroids)\n",
    "    plotClusters(Z, xx, yy, centroids, x_min, x_max, y_min, y_max)\n",
    "\n",
    "K3clusters = KMeans(n_clusters=3,random_state=0).fit(reduced_data)\n",
    "#For GMM clusters = GMM(n_components=5,covariance_type='full').fit(reduced_data)\n",
    "print K3clusters\n",
    "print K3clusters.predict(reduced_data)[:4]\n",
    "\n",
    "allSteps(False, reduced_data, K3clusters)"
   ]
  },
  {
   "cell_type": "code",
   "execution_count": 18,
   "metadata": {
    "collapsed": false,
    "scrolled": false
   },
   "outputs": [
    {
     "name": "stdout",
     "output_type": "stream",
     "text": [
      "KMeans(copy_x=True, init='k-means++', max_iter=300, n_clusters=4, n_init=10,\n",
      "    n_jobs=1, precompute_distances='auto', random_state=0, tol=0.0001,\n",
      "    verbose=0)\n",
      "[0 3 3 0]\n",
      "isNot\n",
      "centroids\n",
      "[[  0.68468443  -0.15620376]\n",
      " [ -7.05027932   0.63634999]\n",
      " [ -4.51308525 -10.04070335]\n",
      " [ -1.30128824   0.73156912]]\n",
      "\n",
      "revert of centroids\n",
      "[[ 12671.14525369   3140.56024245   3969.92306418   3364.99444933\n",
      "     902.63651133   1267.09698252]\n",
      " [ 11575.75815148  33738.3964026   47599.73788995   2935.70615055\n",
      "   22076.40574756   5559.86842825]\n",
      " [ 81410.12439235  30088.63313126  18842.85798626  33954.61886688\n",
      "    2468.7786494   18947.15792161]\n",
      " [  7826.18890799  10577.09565724  16120.904093     1226.43742289\n",
      "    7170.82509551   1397.3906357 ]]\n",
      "\n",
      "revert of unit vecotrs\n",
      "[[ 12542.04853846   9814.8703078   13449.78573957   3320.15314427\n",
      "    5494.35554418   2225.38258907]\n",
      " [ 18669.6371861    6409.37664264   6564.55602068   6036.11091952\n",
      "    1665.96228909   2945.17100374]]\n"
     ]
    },
    {
     "data": {
      "image/png": "[encoded data removed]",
      "text/plain": [
       "<matplotlib.figure.Figure at 0x11715ec10>"
      ]
     },
     "metadata": {},
     "output_type": "display_data"
    }
   ],
   "source": [
    "K4clusters = KMeans(n_clusters=4,random_state=0).fit(reduced_data)\n",
    "#For GMM clusters = GMM(n_components=5,covariance_type='full').fit(reduced_data)\n",
    "print K4clusters\n",
    "print K4clusters.predict(reduced_data)[:4]\n",
    "\n",
    "allSteps(False, reduced_data, K4clusters)"
   ]
  },
  {
   "cell_type": "code",
   "execution_count": 14,
   "metadata": {
    "collapsed": false
   },
   "outputs": [
    {
     "name": "stdout",
     "output_type": "stream",
     "text": [
      "KMeans(copy_x=True, init='k-means++', max_iter=300, n_clusters=5, n_init=10,\n",
      "    n_jobs=1, precompute_distances='auto', random_state=0, tol=0.0001,\n",
      "    verbose=0)\n",
      "[2 0 3 2]\n",
      "isNot\n",
      "centroids\n",
      "[[ -1.34002769   0.81001023]\n",
      " [ -7.05027932   0.63634999]\n",
      " [  0.75198268   0.20048468]\n",
      " [  0.25039316  -1.6392017 ]\n",
      " [ -4.51308525 -10.04070335]]\n",
      "\n",
      "revert of centroids\n",
      "[[  7324.02560109  10684.6811194   16442.689291     1003.53986154\n",
      "    7367.39356663   1313.11813349]\n",
      " [ 11575.75815148  33738.3964026   47599.73788995   2935.70615055\n",
      "   22076.40574756   5559.86842825]\n",
      " [ 10255.81013714   2651.42569135   4094.51049407   2291.00119221\n",
      "    1160.36125429    713.34896549]\n",
      " [ 22797.03960059   5795.04700559   4301.37252278   7868.66631445\n",
      "     234.75001031   3677.62607985]\n",
      " [ 81410.12439235  30088.63313126  18842.85798626  33954.61886688\n",
      "    2468.7786494   18947.15792161]]\n",
      "\n",
      "revert of unit vecotrs\n",
      "[[ 12542.04853846   9814.8703078   13449.78573957   3320.15314427\n",
      "    5494.35554418   2225.38258907]\n",
      " [ 18669.6371861    6409.37664264   6564.55602068   6036.11091952\n",
      "    1665.96228909   2945.17100374]]\n"
     ]
    },
    {
     "data": {
      "image/png": "[encoded data removed]",
      "text/plain": [
       "<matplotlib.figure.Figure at 0x11162d290>"
      ]
     },
     "metadata": {},
     "output_type": "display_data"
    }
   ],
   "source": [
    "K5clusters = KMeans(n_clusters=5,random_state=0).fit(reduced_data)\n",
    "#For GMM clusters = GMM(n_components=5,covariance_type='full').fit(reduced_data)\n",
    "print K5clusters\n",
    "print K5clusters.predict(reduced_data)[:4]\n",
    "\n",
    "allSteps(False, reduced_data, K5clusters)"
   ]
  },
  {
   "cell_type": "code",
   "execution_count": 15,
   "metadata": {
    "collapsed": false
   },
   "outputs": [
    {
     "name": "stdout",
     "output_type": "stream",
     "text": [
      "KMeans(copy_x=True, init='k-means++', max_iter=300, n_clusters=6, n_init=10,\n",
      "    n_jobs=1, precompute_distances='auto', random_state=0, tol=0.0001,\n",
      "    verbose=0)\n",
      "[0 0 0 4]\n",
      "isNot\n",
      "centroids\n",
      "[[ -0.71567162   0.5481188 ]\n",
      " [  0.33957354  -1.68416831]\n",
      " [ -9.31832266   1.12533697]\n",
      " [ -4.51308525 -10.04070335]\n",
      " [  0.8596866    0.18717984]\n",
      " [ -3.21582167   0.89744346]]\n",
      "\n",
      "revert of centroids\n",
      "[[  8.73242308e+03   8.33620953e+03   1.26464917e+04   1.62485449e+03\n",
      "    5.41769997e+03   1.24771368e+03]\n",
      " [  2.30486237e+04   5.46423584e+03   3.74865727e+03   7.97981894e+03\n",
      "   -5.29243644e+01   3.67902024e+03]\n",
      " [  9.54325231e+03   4.25529622e+04   6.07486820e+04   2.04923789e+03\n",
      "    2.85968696e+04   6.45415183e+03]\n",
      " [  8.14101244e+04   3.00886331e+04   1.88428580e+04   3.39546189e+04\n",
      "    2.46877865e+03   1.89471579e+04]\n",
      " [  1.02861959e+04   2.22676360e+03   3.48384950e+03   2.30370470e+03\n",
      "    8.62773304e+02   6.56797933e+02]\n",
      " [  7.75711666e+03   1.81691488e+04   2.68780039e+04   1.20998419e+03\n",
      "    1.23748628e+04   2.50295312e+03]]\n",
      "\n",
      "revert of unit vecotrs\n",
      "[[ 12542.04853846   9814.8703078   13449.78573957   3320.15314427\n",
      "    5494.35554418   2225.38258907]\n",
      " [ 18669.6371861    6409.37664264   6564.55602068   6036.11091952\n",
      "    1665.96228909   2945.17100374]]\n"
     ]
    },
    {
     "data": {
      "image/png": "[encoded data removed]",
      "text/plain": [
       "<matplotlib.figure.Figure at 0x11b7e7290>"
      ]
     },
     "metadata": {},
     "output_type": "display_data"
    }
   ],
   "source": [
    "K6clusters = KMeans(n_clusters=6,random_state=0).fit(reduced_data)\n",
    "#For GMM clusters = GMM(n_components=6,covariance_type='full').fit(reduced_data)\n",
    "print K6clusters\n",
    "print K6clusters.predict(reduced_data)[:4]\n",
    "\n",
    "allSteps(False, reduced_data, K6clusters)"
   ]
  },
  {
   "cell_type": "code",
   "execution_count": 16,
   "metadata": {
    "collapsed": false
   },
   "outputs": [
    {
     "name": "stdout",
     "output_type": "stream",
     "text": [
      "GMM(covariance_type='full', init_params='wmc', min_covar=0.001,\n",
      "  n_components=3, n_init=1, n_iter=100, params='wmc', random_state=None,\n",
      "  thresh=None, tol=0.001, verbose=0)\n",
      "[0 0 0 1]\n",
      "is\n",
      "centroids\n",
      "[[-1.01895835  0.61635831]\n",
      " [ 0.85857587 -0.12587327]\n",
      " [-0.9217878  -3.07397157]]\n",
      "\n",
      "revert of centroids\n",
      "[[  8441.61645307   9513.1605326   14408.74556777   1497.86259442\n",
      "    6293.09367548   1363.24910097]\n",
      " [ 12374.65514142   2423.16340362   3055.83944951   3231.92590322\n",
      "     485.14975872   1102.20551944]\n",
      " [ 33001.03690376  11385.2513658    8756.99356946  12412.54149459\n",
      "    1553.49041316   6536.55750094]]\n",
      "\n",
      "revert of unit vecotrs\n",
      "[[ 12542.04853846   9814.8703078   13449.78573957   3320.15314427\n",
      "    5494.35554418   2225.38258907]\n",
      " [ 18669.6371861    6409.37664264   6564.55602068   6036.11091952\n",
      "    1665.96228909   2945.17100374]]\n"
     ]
    },
    {
     "data": {
      "image/png": "[encoded data removed]",
      "text/plain": [
       "<matplotlib.figure.Figure at 0x11c42de50>"
      ]
     },
     "metadata": {},
     "output_type": "display_data"
    }
   ],
   "source": [
    "G3clusters = GMM(n_components=3,covariance_type='full').fit(reduced_data)\n",
    "#For GMM clusters = GMM(n_components=5,covariance_type='full').fit(reduced_data)\n",
    "print G3clusters\n",
    "print G3clusters.predict(reduced_data)[:4]\n",
    "\n",
    "allSteps(True, reduced_data, G3clusters)"
   ]
  },
  {
   "cell_type": "code",
   "execution_count": 17,
   "metadata": {
    "collapsed": false
   },
   "outputs": [
    {
     "name": "stdout",
     "output_type": "stream",
     "text": [
      "GMM(covariance_type='full', init_params='wmc', min_covar=0.001,\n",
      "  n_components=6, n_init=1, n_iter=100, params='wmc', random_state=None,\n",
      "  thresh=None, tol=0.001, verbose=0)\n",
      "[0 0 2 1]\n",
      "is\n",
      "centroids\n",
      "[[-0.31849223  0.67709895]\n",
      " [ 0.98268429  0.0608808 ]\n",
      " [ 0.17601738 -0.96216904]\n",
      " [-6.04691194 -0.08490955]\n",
      " [-3.41853265 -8.41740202]\n",
      " [-2.25066319  0.72386282]]\n",
      "\n",
      "revert of centroids\n",
      "[[  7657.03837929   6661.02356307  10641.45702511   1143.94581268\n",
      "    4536.70424795    786.29411214]\n",
      " [ 11061.89302087   1809.91981868   2632.40406267   2647.54703735\n",
      "     387.8768675     750.01915542]\n",
      " [ 18321.9721446    5678.83787853   5649.18398186   5880.28192493\n",
      "    1252.03780908   2768.13736922]\n",
      " [ 15842.50781762  30148.47179645  41082.52790001   4824.59144536\n",
      "   18578.031617     5881.40273278]\n",
      " [ 69990.80199021  24694.79578351  15075.51773092  28871.17167841\n",
      "    1582.03628914  15874.83476918]\n",
      " [  8391.909454    14396.98283843  21330.36383767   1484.93537029\n",
      "    9642.04394357   2073.38456608]]\n",
      "\n",
      "revert of unit vecotrs\n",
      "[[ 12542.04853846   9814.8703078   13449.78573957   3320.15314427\n",
      "    5494.35554418   2225.38258907]\n",
      " [ 18669.6371861    6409.37664264   6564.55602068   6036.11091952\n",
      "    1665.96228909   2945.17100374]]\n"
     ]
    },
    {
     "data": {
      "image/png": "[encoded data removed]",
      "text/plain": [
       "<matplotlib.figure.Figure at 0x11b31ad50>"
      ]
     },
     "metadata": {},
     "output_type": "display_data"
    }
   ],
   "source": [
    "G6clusters = GMM(n_components=6,covariance_type='full').fit(reduced_data)\n",
    "#For GMM clusters = GMM(n_components=5,covariance_type='full').fit(reduced_data)\n",
    "print G6clusters\n",
    "print G6clusters.predict(reduced_data)[:4]\n",
    "\n",
    "allSteps(True, reduced_data, G6clusters)"
   ]
  },
  {
   "cell_type": "markdown",
   "metadata": {},
   "source": [
    "**7)** What are the central objects in each cluster? Describe them as customers."
   ]
  },
  {
   "cell_type": "markdown",
   "metadata": {
    "collapsed": true
   },
   "source": [
    "Answer: \n",
    "\n",
    "Of the several different runs that were done, I'll focus the answer in this section on K=6 and the K-means clustering.\n",
    "\n",
    "The choice of K is admittedly partially subjective.  Influenced by the ICA, it was easy to imagine 6 different types of stores.  A higher K might be possible.  But already some of the classes are defined by a small number of stores. The purpose of creating classes loses it value if classes get too small.\n",
    "\n",
    "```\n",
    "centroids\n",
    "[[ -0.71567162   0.5481188 ]  -- blue\n",
    " [  0.33957354  -1.68416831]  -- green\n",
    " [ -9.31832266   1.12533697]  -- rose\n",
    " [ -4.51308525 -10.04070335]  -- orange\n",
    " [  0.8596866    0.18717984]  -- purple\n",
    " [ -3.21582167   0.89744346]] -- brown\n",
    "\n",
    "revert of centroids\n",
    "    Fresh    Milk Grocery  Frozen  D&P     Deli\n",
    "[[   8732    8336   12646    1624  5417    1247]  -- blue\n",
    " [  23048    5464    3748    7979     0    3679]  -- green\n",
    " [   9543   42552   60748    2049 28596    6454]  -- rose\n",
    " [  81410   30088   18842   33954  2468   18947]  -- orange\n",
    " [  10286    2226    3483    2303   862     656]  -- purple\n",
    " [   7757   18169   26878    1209 12374    2502]] -- brown\n",
    "```\n",
    "\n",
    "(food and fresh produce stores, little detergent and paper)\n",
    "purple -- Fresh food vendor sells sundry other products\n",
    "green  -- Large Produce & Food store \n",
    "\n",
    "(large portion detergent and paper)\n",
    "blue   -- Corner convience store\n",
    "brown  -- Small drug store chain mainly packaged commidity goods\n",
    "rose   -- Large drug store chain mainly packaged commidity goods\n",
    "\n",
    "(Large everything store)\n",
    "orange -- SuperStore\n",
    "\n"
   ]
  },
  {
   "cell_type": "markdown",
   "metadata": {},
   "source": [
    "###Conclusions\n",
    "\n",
    "** 8)** Which of these techniques did you feel gave you the most insight into the data?"
   ]
  },
  {
   "cell_type": "markdown",
   "metadata": {
    "collapsed": true
   },
   "source": [
    "Answer:  \n",
    "\n",
    "I felt the ICA had a much stronger intuitional appeal to me.  I was able to use the component vectors it created to come up reasonably descriptions of 6 different types of stores.  Certainly there could be even more types of stores, but with 6 features, the ICA could produce at most 6, being the min of the number of features and the number of row.\n",
    "\n",
    "Because there was a fair about of variablity in each of the features the PCA was going to come up with a first basis vector with components with a bit of each feature.  The vector didn't (and wasn't suppose to) a type of store, just a way of spreading all the stores apart from one another.  For purposes of the assignment, and ability to graph the results, it seemed that 2 pricipal components were chosen, despite only explaining 72% of the varability.  It was sort of surprising when the reverting the the first reduced point back to dollar value and comparing to the first row of data that it modeled.\n",
    "```\n",
    "   10070  6386     9437    2216              3757          1227  reduce point mapped back\n",
    "   Fresh  Milk  Grocery  Frozen  Detergents_Paper  Delicatessen\n",
    "   12669  9656     7561     214              2674          1338  starting point of mapping\n",
    "```\n",
    "\n",
    "Between the K-mean and the GMM, I felt the resulting partitions felt less blob like.  The GMM produced some elongated structures the bisected other partitions in two.  If I had recognizable names to go along with some stores I might have been able to use domain knowelege to make more sense of the GMM blobs, but without that extra knowlege, the shapes were harder to conceptualize.  The data didn't scream out with some obvious boundaries so was content to have an arbitrary cut make to seperate groups."
   ]
  },
  {
   "cell_type": "markdown",
   "metadata": {
    "collapsed": true
   },
   "source": [
    "**9)** How would you use that technique to help the company design new experiments?"
   ]
  },
  {
   "cell_type": "markdown",
   "metadata": {},
   "source": [
    "Answer:  \n",
    "\n",
    "Having mapped each store to a partition, I could used that partition to label each store.  Now instead of testing out a change on n% (or whatever the budget was allowing) of a randomly chosen subset of the the full population.  I would instead randomly chose n% of each labeled group to test out the change from AM to PM delivery.  The remaining portion of each group would be a control with no change.  There are some limitations to this.  The partitions didn't divide each group up to be the same size.  The partition of the large buyers has very few stores in it and can necessarily be divide in a way that one store is n% of the partition.  But from the change we know these high volume customers had an easy time adjusting to the change anyways.\n",
    "\n",
    "In a sense, they have already run the experiment, there isn't a real need for more disruption.  They implemented the change, and they lost customers.  Using past customer data they can identify which partitions those customers came from."
   ]
  },
  {
   "cell_type": "markdown",
   "metadata": {},
   "source": [
    "**10)** How would you use that data to help you predict future customer needs?"
   ]
  },
  {
   "cell_type": "markdown",
   "metadata": {},
   "source": [
    "Answer: \n",
    "\n",
    "Now that custormers have a label.  Hopefully they gathered data on each customer, such as store square footage, zip code, data like all the Boston Housing Price data.   They can use this data and the label to used supervised learning techniques to build a classifier that will be able to predict which class of store a future customer will be before it has even placed any orders.\n"
   ]
  },
  {
   "cell_type": "code",
   "execution_count": null,
   "metadata": {
    "collapsed": true
   },
   "outputs": [],
   "source": []
  }
 ],
 "metadata": {
  "kernelspec": {
   "display_name": "Python 2",
   "language": "python",
   "name": "python2"
  },
  "language_info": {
   "codemirror_mode": {
    "name": "ipython",
    "version": 2
   },
   "file_extension": ".py",
   "mimetype": "text/x-python",
   "name": "python",
   "nbconvert_exporter": "python",
   "pygments_lexer": "ipython2",
   "version": "2.7.11"
  }
 },
 "nbformat": 4,
 "nbformat_minor": 0
}
